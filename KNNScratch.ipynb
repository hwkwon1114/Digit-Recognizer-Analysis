{
 "cells": [
  {
   "cell_type": "code",
   "execution_count": 16,
   "metadata": {},
   "outputs": [],
   "source": [
    "from math import sqrt\n",
    "import numpy as np\n",
    "from matplotlib import pyplot as plt\n",
    "import pandas as pd\n",
    "from sklearn.model_selection import train_test_split\n"
   ]
  },
  {
   "cell_type": "code",
   "execution_count": 58,
   "metadata": {},
   "outputs": [],
   "source": [
    "df = pd.read_csv(\"./digit-recognizer/train.csv\")\n",
    "X = df.drop('label', axis=1)\n",
    "Y = df.label\n",
    "trainx, testx, trainy, testy=  train_test_split(X,Y, test_size= 0.3)\n",
    "train = np.column_stack((trainx, trainy))\n"
   ]
  },
  {
   "cell_type": "code",
   "execution_count": 3,
   "metadata": {},
   "outputs": [],
   "source": [
    "def Euclidean_distance(row1, row2):\n",
    " distance = 0\n",
    " for i in range(len(row1)-1):\n",
    "    distance += (row1[i] -row2[i])**2\n",
    " return sqrt(distance)"
   ]
  },
  {
   "attachments": {},
   "cell_type": "markdown",
   "metadata": {},
   "source": [
    "Get Neighbors of 4\n"
   ]
  },
  {
   "cell_type": "code",
   "execution_count": 48,
   "metadata": {},
   "outputs": [],
   "source": [
    "def Get_Neighbors(train, test_row, num):\n",
    "   distance = list() # []\n",
    "   data = []\n",
    "   for i in train:\n",
    "      dist = Euclidean_distance(test_row, i)\n",
    "      distance.append(dist)\n",
    "      data.append(i)\n",
    "   distance = np.array(distance)\n",
    "   data = np.array(data)\n",
    "   #Finding the index in ascending order\n",
    "   index_dist = distance.argsort()\n",
    "   #Arranging data according to index\n",
    "   data = data[index_dist]\n",
    "   #slicing k value from number of data\n",
    "   neighbors = data[:num]\n",
    "   return neighbors  "
   ]
  },
  {
   "cell_type": "code",
   "execution_count": 49,
   "metadata": {},
   "outputs": [],
   "source": [
    "def predict_classification(train, test_row, num):\n",
    "    Neighbors = Get_Neighbors(train, test_row, num)\n",
    "    Classes = []\n",
    "    for i in Neighbors:\n",
    "        Classes.append(i[-1])\n",
    "    prediction = max(Classes, key= Classes.count)\n",
    "    return prediction"
   ]
  },
  {
   "cell_type": "code",
   "execution_count": 84,
   "metadata": {},
   "outputs": [],
   "source": [
    "def accuracy(y_true, y_pred):\n",
    "    n_correct = 0\n",
    "    for i in range(len(y_pred)):\n",
    "        if y_true[i+2001] == y_pred[i]:\n",
    "            n_correct += 1\n",
    "    acc = n_correct/len(y_pred)\n",
    "    return acc"
   ]
  },
  {
   "cell_type": "code",
   "execution_count": 85,
   "metadata": {},
   "outputs": [
    {
     "data": {
      "text/plain": [
       "4"
      ]
     },
     "execution_count": 85,
     "metadata": {},
     "output_type": "execute_result"
    }
   ],
   "source": [
    "prediction = predict_classification(train[:2000], train[2205], 4)\n",
    "prediction"
   ]
  },
  {
   "cell_type": "code",
   "execution_count": 86,
   "metadata": {},
   "outputs": [
    {
     "data": {
      "text/plain": [
       "<matplotlib.image.AxesImage at 0x2a3c73430>"
      ]
     },
     "execution_count": 86,
     "metadata": {},
     "output_type": "execute_result"
    },
    {
     "data": {
      "image/png": "[encoded data removed]",
      "text/plain": [
       "<Figure size 640x480 with 1 Axes>"
      ]
     },
     "metadata": {},
     "output_type": "display_data"
    }
   ],
   "source": [
    "plt.imshow(train[2205,1:].reshape(28,28))"
   ]
  },
  {
   "cell_type": "code",
   "execution_count": 87,
   "metadata": {},
   "outputs": [
    {
     "data": {
      "text/plain": [
       "0.9292929292929293"
      ]
     },
     "execution_count": 87,
     "metadata": {},
     "output_type": "execute_result"
    }
   ],
   "source": [
    "y_pred=[]\n",
    "y_true=train[:,-1]\n",
    "for i in range(2001,2100):\n",
    "    prediction = predict_classification(train[:2000], train[i], 4)\n",
    "    y_pred.append(prediction)\n",
    "accuracy(y_true, y_pred)\n"
   ]
  },
  {
   "cell_type": "code",
   "execution_count": 88,
   "metadata": {},
   "outputs": [
    {
     "data": {
      "text/plain": [
       "(6, 6)"
      ]
     },
     "execution_count": 88,
     "metadata": {},
     "output_type": "execute_result"
    }
   ],
   "source": [
    "y_pred[1], y_true[2002]"
   ]
  },
  {
   "cell_type": "code",
   "execution_count": null,
   "metadata": {},
   "outputs": [],
   "source": []
  }
 ],
 "metadata": {
  "kernelspec": {
   "display_name": "base",
   "language": "python",
   "name": "python3"
  },
  "language_info": {
   "codemirror_mode": {
    "name": "ipython",
    "version": 3
   },
   "file_extension": ".py",
   "mimetype": "text/x-python",
   "name": "python",
   "nbconvert_exporter": "python",
   "pygments_lexer": "ipython3",
   "version": "3.9.13"
  },
  "orig_nbformat": 4
 },
 "nbformat": 4,
 "nbformat_minor": 2
}
